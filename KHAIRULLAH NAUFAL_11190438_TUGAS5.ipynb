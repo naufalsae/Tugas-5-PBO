{
 "cells": [
  {
   "cell_type": "code",
   "execution_count": null,
   "metadata": {
    "id": "rHy5qNEzCw4G"
   },
   "outputs": [],
   "source": []
  },
  {
   "cell_type": "markdown",
   "metadata": {
    "id": "aCDGpWd-Cz2S"
   },
   "source": [
    "**Soal 1**\n",
    "\n",
    "Rancanglah sebuah class **Kendaraan** yang tidak memiliki atribut dan method sama sekali. Implementasikan dalam kode python kemudian lakukan eksekusi kemudian amati dan berikan penjelasan "
   ]
  },
  {
   "cell_type": "code",
   "execution_count": 1,
   "metadata": {
    "id": "Ge48DNVFDqjh"
   },
   "outputs": [],
   "source": [
    "#Soal 1\n",
    "\n",
    "class kendaraan:\n",
    "    pass"
   ]
  },
  {
   "cell_type": "markdown",
   "metadata": {
    "id": "6sTLg-NHD0vm"
   },
   "source": [
    "*Penjelasan Soal 1 :*\n",
    "implementasi class diatas menggunakan argumen pass supaya tidak terjadi eror saat proses running."
   ]
  },
  {
   "cell_type": "markdown",
   "metadata": {
    "id": "WZfosTyeD7-k"
   },
   "source": [
    "**Soal 2**\n",
    "\n",
    "Rancanglah sebuah class Kendaraan yang memiliki atribut max_speed, jumlah_roda dan bahan_bakar. Buat class tersebut sekaligus implementasinya"
   ]
  },
  {
   "cell_type": "code",
   "execution_count": 2,
   "metadata": {
    "id": "LGn4ehONEuJn"
   },
   "outputs": [],
   "source": [
    "#Kode Soal 2\n",
    "\n",
    "class Kendaraan:\n",
    "    \n",
    "    def __init__(self, nama_kendaraan,max_speed,jumlah_roda,bahan_bakar):\n",
    "        self.nama_kendaraan = nama_kendaraan\n",
    "        self.max_speed = max_speed\n",
    "        self.jumlah_roda = jumlah_roda\n",
    "        self.bahan_bakar = bahan_bakar"
   ]
  },
  {
   "cell_type": "code",
   "execution_count": 11,
   "metadata": {},
   "outputs": [],
   "source": [
    "mobil = Kendaraan ('avanza',100, 4,'pertalite')"
   ]
  },
  {
   "cell_type": "code",
   "execution_count": 12,
   "metadata": {},
   "outputs": [
    {
     "data": {
      "text/plain": [
       "100"
      ]
     },
     "execution_count": 12,
     "metadata": {},
     "output_type": "execute_result"
    }
   ],
   "source": [
    "mobil.max_speed"
   ]
  },
  {
   "cell_type": "markdown",
   "metadata": {
    "id": "-vjXUjdqFCTi"
   },
   "source": [
    "**Soal 3**\n",
    "\n",
    "Rancanglah sebuah **class Bis** yang merupakan hasil penurunan dari **Class Kendaraan** pada soal 2, Tambahkan kompunen yang dibutuhkan di dari class Bus tersebut selain dari kompunen induk.  Buatlah class tersebut sekaligus implementasinya"
   ]
  },
  {
   "cell_type": "code",
   "execution_count": 6,
   "metadata": {
    "id": "O2yHVHLSFkaZ"
   },
   "outputs": [],
   "source": [
    "#Kode Soal 3\n",
    "\n",
    "class Bis(Kendaraan):\n",
    "\n",
    "    def __init__(self, nama_kendaraan,max_speed,jumlah_roda,bahan_bakar):\n",
    "        super().__init__(nama_kendaraan,max_speed,jumlah_roda,bahan_bakar)\n",
    "        self.bus_mudik = []\n",
    "        \n",
    "    def input_bis(self, baru):\n",
    "        return self.bus_mudik.append(baru)"
   ]
  },
  {
   "cell_type": "code",
   "execution_count": 15,
   "metadata": {},
   "outputs": [],
   "source": [
    "baru = Bis ('Sinar Jaya Bus',500, 10, 'pertamax')"
   ]
  },
  {
   "cell_type": "code",
   "execution_count": 16,
   "metadata": {},
   "outputs": [
    {
     "data": {
      "text/plain": [
       "'Sinar Jaya Bus'"
      ]
     },
     "execution_count": 16,
     "metadata": {},
     "output_type": "execute_result"
    }
   ],
   "source": [
    "baru.nama_kendaraan"
   ]
  }
 ],
 "metadata": {
  "colab": {
   "collapsed_sections": [],
   "name": "Bag2_Tugas_1.ipynb",
   "provenance": []
  },
  "kernelspec": {
   "display_name": "Python 3",
   "language": "python",
   "name": "python3"
  },
  "language_info": {
   "codemirror_mode": {
    "name": "ipython",
    "version": 3
   },
   "file_extension": ".py",
   "mimetype": "text/x-python",
   "name": "python",
   "nbconvert_exporter": "python",
   "pygments_lexer": "ipython3",
   "version": "3.8.3"
  }
 },
 "nbformat": 4,
 "nbformat_minor": 1
}
